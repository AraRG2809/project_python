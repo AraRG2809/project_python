{
  "nbformat": 4,
  "nbformat_minor": 0,
  "metadata": {
    "colab": {
      "provenance": [],
      "include_colab_link": true
    },
    "kernelspec": {
      "name": "python3",
      "display_name": "Python 3"
    },
    "language_info": {
      "name": "python"
    }
  },
  "cells": [
    {
      "cell_type": "markdown",
      "metadata": {
        "id": "view-in-github",
        "colab_type": "text"
      },
      "source": [
        "<a href=\"https://colab.research.google.com/github/AraRG2809/project_python/blob/main/ARA_21DaysOfPython.ipynb\" target=\"_parent\"><img src=\"https://colab.research.google.com/assets/colab-badge.svg\" alt=\"Open In Colab\"/></a>"
      ]
    },
    {
      "cell_type": "markdown",
      "source": [
        "# **Reto 21 días para principiantes**\n"
      ],
      "metadata": {
        "id": "o5fJlB98WLTW"
      }
    },
    {
      "cell_type": "markdown",
      "source": [
        "Python, un lenguaje de programación versátil y ampliamente utilizado, se ha convertido en una herramienta esencial en el kit de cualquier desarrollador de software. Su sintaxis simple y legible, combinada con una amplia gama de bibliotecas y frameworks, lo convierte en una elección ideal tanto para principiantes como para programadores experimentados."
      ],
      "metadata": {
        "id": "QOXPPHZwWQQK"
      }
    },
    {
      "cell_type": "markdown",
      "source": [
        "## **Antes de empezar**"
      ],
      "metadata": {
        "id": "Nl9zItRoHD8R"
      }
    },
    {
      "cell_type": "markdown",
      "source": [
        "Aprende cómo usar esta herramienta de trabajo, Google Colab.\n",
        "\n",
        "Ver lecciones aquí:\n",
        "\n",
        "https://nodd3r.com/masters/master-data-science/courses/programacion-python/theory/como-usar-google-colab"
      ],
      "metadata": {
        "id": "fjYujTlJHI94"
      }
    },
    {
      "cell_type": "markdown",
      "source": [
        "## **Día 0. Ver sesión 1 Minibootcamp Python**\n",
        "\n",
        "En este enlace, podrás ver la sesión 1 del minibootcamp de Python.\n",
        "\n",
        "Esta sesión te ayudará a entender los conceptos básicos de Python y a ver ejercicios resueltos.\n",
        "\n",
        "\n",
        "[Sesión 1 minibootcamp Python](https://nodd3r.com/masters/masterclass/courses/minibootcamp-python/theory/sesion-1-teoria-practica-intro-python)"
      ],
      "metadata": {
        "id": "METGVZTKu-Pu"
      }
    },
    {
      "cell_type": "markdown",
      "source": [
        "\n",
        "# **Día 1.Imprimir por pantalla (Nivel 0)**\n",
        "Imprime por pantalla tu primer ‘Hola mundo’ <br>\n",
        "¡Sigue practicando con el print, prueba tu nombre, ciudad y otros datos que quieras!\n",
        "\n",
        "Link a teoría:\n",
        "https://nodd3r.com/masters/master-data-science/courses/programacion-python/theory/parte-1-de-sintaxis-basica\n"
      ],
      "metadata": {
        "id": "2qXx015VTbkF"
      }
    },
    {
      "cell_type": "markdown",
      "source": [
        "**Ejercicio**:\n",
        "Printa los siguientes casos"
      ],
      "metadata": {
        "id": "w8tsNU1a5jL5"
      }
    },
    {
      "cell_type": "code",
      "execution_count": null,
      "metadata": {
        "id": "GBlZGNVDTa31",
        "colab": {
          "base_uri": "https://localhost:8080/"
        },
        "outputId": "c8393eea-27a9-408b-9247-627cd8e707db"
      },
      "outputs": [
        {
          "output_type": "stream",
          "name": "stdout",
          "text": [
            "Hola mundo\n"
          ]
        }
      ],
      "source": [
        "# Crea el codigo del tu primer hola mundo\n",
        "print(\"Hola mundo\")\n"
      ]
    },
    {
      "cell_type": "code",
      "source": [
        "#Imprime por pantalla datos para presentarte\n",
        "#Creamos variables y les asignamos\n",
        "nombre = 'Araceli'\n",
        "apellido = 'Rodríguez'\n",
        "ciudad = 'Marbella'\n",
        "\n",
        "print('Hola soy: ' + nombre + ' ' + apellido + ' y vivo en ' + ciudad)\n",
        "\n"
      ],
      "metadata": {
        "colab": {
          "base_uri": "https://localhost:8080/"
        },
        "id": "5EWpMzsJTxSF",
        "outputId": "1e811188-3252-4fce-d754-3b91f0ce388b"
      },
      "execution_count": null,
      "outputs": [
        {
          "output_type": "stream",
          "name": "stdout",
          "text": [
            "Hola soy: Araceli Rodríguez y vivo en Marbella\n"
          ]
        }
      ]
    },
    {
      "cell_type": "code",
      "source": [
        "#Imprime por pantalla tu edad\n",
        "edad = 44\n",
        "print(edad)\n",
        "print(type(edad))\n",
        "\n"
      ],
      "metadata": {
        "id": "y_lXRYRszqNV",
        "colab": {
          "base_uri": "https://localhost:8080/"
        },
        "outputId": "cac8d0d7-d96f-4bff-92a1-66283d38c783"
      },
      "execution_count": null,
      "outputs": [
        {
          "output_type": "stream",
          "name": "stdout",
          "text": [
            "44\n",
            "<class 'int'>\n"
          ]
        }
      ]
    },
    {
      "cell_type": "markdown",
      "source": [
        "**Soluciones ejericicios día 1**\n",
        "\n",
        "Darle a \"Mostrar Código\""
      ],
      "metadata": {
        "id": "EaXokQzZqYzd"
      }
    },
    {
      "cell_type": "code",
      "source": [
        "# @title Ver soluciones Día 1\n",
        "\n",
        "#1. Crea el codigo del tu primer hola mundo\n",
        "print('Hola Mundo')\n",
        "\n",
        "# -------------------------------------\n",
        "\n",
        "#2. Imprime por pantalla datos para presentarte\n",
        "#Creamos variables y les asignamos\n",
        "nombre = 'Christian'\n",
        "empresa = 'Nodd3r'\n",
        "ciudad = 'Madrid'\n",
        "\n",
        "print('Hola soy: ' + nombre + ' trabajo en ' + empresa + ' en la ciudad de ' + ciudad)\n",
        "\n",
        "# -------------------------------------\n",
        "\n",
        "#3. Imprime por pantalla un numero\n",
        "numero_float =2\n",
        "print(type(numero_float))\n",
        "\n",
        "\n",
        "\n"
      ],
      "metadata": {
        "cellView": "form",
        "id": "gN_zLdyyprqJ",
        "colab": {
          "base_uri": "https://localhost:8080/"
        },
        "outputId": "f522eb86-7788-466b-fa68-ee1019a735b5"
      },
      "execution_count": null,
      "outputs": [
        {
          "output_type": "stream",
          "name": "stdout",
          "text": [
            "Hola Mundo\n",
            "Hola soy: Christian trabajo en Nodd3r en la ciudad de Madrid\n",
            "<class 'int'>\n"
          ]
        }
      ]
    },
    {
      "cell_type": "markdown",
      "source": [
        "# **Día 2.Variables y Tipos de Datos Básicos (Nivel 0)**"
      ],
      "metadata": {
        "id": "h_SBIKIQWXVb"
      }
    },
    {
      "cell_type": "markdown",
      "source": [
        "\n",
        "\n",
        "Aprende sobre variables y tipos de datos en Python (enteros, flotantes, cadenas).\n",
        "\n",
        "Link a teoría:https://nodd3r.com/masters/master-data-science/courses/programacion-python/theory/parte-2-de-sintaxis-basica"
      ],
      "metadata": {
        "id": "S9z-BCohWgpW"
      }
    },
    {
      "cell_type": "markdown",
      "source": [
        "**Ejercicio:**\n",
        "\n",
        "Escribe un programa que tome dos números como entrada y muestre su suma."
      ],
      "metadata": {
        "id": "PtUgNf4A5qqQ"
      }
    },
    {
      "cell_type": "code",
      "source": [
        "# Escribe aquí tu código\n",
        "n1 = 3\n",
        "n2 = 5\n",
        "suma = n1 + n2\n",
        "print(\"Resultado de la suma:\", suma)\n",
        "\n"
      ],
      "metadata": {
        "colab": {
          "base_uri": "https://localhost:8080/"
        },
        "id": "mv0LMwdVWqkv",
        "outputId": "c242cd3a-0478-4ee9-86d5-1b3e17fbaabe"
      },
      "execution_count": null,
      "outputs": [
        {
          "output_type": "stream",
          "name": "stdout",
          "text": [
            "Resultado de la suma: 8\n"
          ]
        }
      ]
    },
    {
      "cell_type": "markdown",
      "source": [
        "El ***input*** en Python es una función que se utiliza para recibir información o datos ingresados por el usuario a través del teclado. Funciona de la siguiente manera:\n",
        "\n",
        "Muestra un mensaje opcional al usuario, solicitando la entrada de datos.<br>\n",
        "El usuario escribe la información deseada en la consola y presiona \"Enter\".\n",
        "input toma lo que el usuario escribió y lo almacena en una variable en forma de texto (cadena de caracteres). <br>\n",
        "Por ejemplo, si tienes el siguiente código:"
      ],
      "metadata": {
        "id": "X0foaQvpl53W"
      }
    },
    {
      "cell_type": "code",
      "source": [
        "edad = input(\"Por favor, ingresa tu edad: \")\n",
        "print('La edad es:', edad)"
      ],
      "metadata": {
        "id": "K88Jhs-lm24g",
        "colab": {
          "base_uri": "https://localhost:8080/"
        },
        "outputId": "f2407af0-f917-469b-e8ba-e6caed3cc0df"
      },
      "execution_count": null,
      "outputs": [
        {
          "output_type": "stream",
          "name": "stdout",
          "text": [
            "Por favor, ingresa tu edad: 44\n",
            "La edad es: 44\n"
          ]
        }
      ]
    },
    {
      "cell_type": "code",
      "source": [
        "# @title Soluciones día 2\n",
        "\n",
        "#4. Escribe un programa que tome dos números como entrada y muestre su suma.\n",
        "num1 = 5\n",
        "num2 = 3\n",
        "suma = num1 + num2\n",
        "print(\"La suma es:\", suma)\n",
        "\n",
        "edad = input(\"Por favor, ingresa tu edad: \")\n",
        "print('La edad es:')"
      ],
      "metadata": {
        "cellView": "form",
        "id": "xOa26Oc3qWju",
        "colab": {
          "base_uri": "https://localhost:8080/"
        },
        "outputId": "64247afa-0c06-4705-c736-f0b0929880a4"
      },
      "execution_count": null,
      "outputs": [
        {
          "output_type": "stream",
          "name": "stdout",
          "text": [
            "La suma es: 8\n",
            "Por favor, ingresa tu edad: 44\n",
            "La edad es:\n"
          ]
        }
      ]
    },
    {
      "cell_type": "markdown",
      "source": [
        "# **Día 3. Variables y tipos de datos (nivel 0)**"
      ],
      "metadata": {
        "id": "a94bvMxfxw8b"
      }
    },
    {
      "cell_type": "markdown",
      "source": [
        "**Ejercicio:**\n",
        "\n",
        "Crea un programa en el que se tenga una variable llamada nombre y luego le dé la bienvenida utilizando su nombre. Por ejemplo, \"Hola, [nombre]\"."
      ],
      "metadata": {
        "id": "A-BN4jYt52nI"
      }
    },
    {
      "cell_type": "code",
      "source": [
        "# Escribe aquí tu código\n",
        "\n",
        "nombre = input(\"Introduzca su nombre: \")\n",
        "print(f\"Hola, {nombre}!\")\n"
      ],
      "metadata": {
        "id": "qJnLOIg5Wsvy",
        "colab": {
          "base_uri": "https://localhost:8080/"
        },
        "outputId": "0e5aafbc-2691-40cf-85c5-68efcde30425"
      },
      "execution_count": null,
      "outputs": [
        {
          "output_type": "stream",
          "name": "stdout",
          "text": [
            "Introduzca su nombre: Ara\n",
            "Hola, Ara!\n"
          ]
        }
      ]
    },
    {
      "cell_type": "markdown",
      "source": [
        "**Ver solucion Día 3**"
      ],
      "metadata": {
        "id": "Q8wdJP9hqzir"
      }
    },
    {
      "cell_type": "code",
      "source": [
        "# @title Solución Día 3\n",
        "\n",
        "#5. Crea un programa en el que se tenga una variable llamada nombre y luego le dé la bienvenida utilizando su nombre. Por ejemplo, \"Hola, [nombre]\".\n",
        "# Solicitar al usuario que ingrese su nombre\n",
        "nombre = input(\"Ingresa tu nombre: \")\n",
        "\n",
        "# Mostrar el saludo utilizando el nombre\n",
        "print(f\"Hola, {nombre}!\")\n"
      ],
      "metadata": {
        "cellView": "form",
        "id": "lK_zF9s5q2Av",
        "colab": {
          "base_uri": "https://localhost:8080/"
        },
        "outputId": "124bf3d0-e5cb-4a4f-f5dd-e94c0727f7bb"
      },
      "execution_count": null,
      "outputs": [
        {
          "output_type": "stream",
          "name": "stdout",
          "text": [
            "Ingresa tu nombre: Ara\n",
            "Hola, Ara!\n"
          ]
        }
      ]
    },
    {
      "cell_type": "markdown",
      "source": [
        "# **Día 4. Operadores (Nivel 1)**"
      ],
      "metadata": {
        "id": "cCysXp4TXv5M"
      }
    },
    {
      "cell_type": "markdown",
      "source": [
        "Explora operadores aritméticos, de comparación y lógicos.\n",
        "\n",
        "Link a teoría:\n",
        "https://nodd3r.com/masters/master-data-science/courses/programacion-python/theory/operaciones-en-python\n",
        "\n",
        "\n",
        "\n"
      ],
      "metadata": {
        "id": "UPsxorH2X7VB"
      }
    },
    {
      "cell_type": "markdown",
      "source": [
        "**Ejercicio:**\n",
        "\n",
        "Crea un programa que calcule el área de un triángulo dado su base y altura."
      ],
      "metadata": {
        "id": "b4sGp7mz525I"
      }
    },
    {
      "cell_type": "code",
      "source": [
        "# Escribe aquí tu código\n",
        "base = 4\n",
        "altura = 3\n",
        "area = (base * altura)/2\n",
        "print(f\"El área del triánglo es: {area}m2\")"
      ],
      "metadata": {
        "id": "CEfxkxHgX6ep",
        "colab": {
          "base_uri": "https://localhost:8080/"
        },
        "outputId": "300e6af5-f7b0-469d-eb1f-0e301b374343"
      },
      "execution_count": null,
      "outputs": [
        {
          "output_type": "stream",
          "name": "stdout",
          "text": [
            "El área del triánglo es: 6.0m2\n"
          ]
        }
      ]
    },
    {
      "cell_type": "code",
      "source": [
        "# @title Solución Día 4\n",
        "\n",
        "#6. Crea un programa que calcule el área de un triángulo dado su base y altura.\n",
        "base = 4\n",
        "altura = 5\n",
        "area = (base * altura) / 2\n",
        "print(\"El área del triángulo es:\", area)\n",
        "\n"
      ],
      "metadata": {
        "id": "ia6lXdt9rt78",
        "colab": {
          "base_uri": "https://localhost:8080/"
        },
        "outputId": "5533003a-d837-402d-efa2-c845a200117e"
      },
      "execution_count": null,
      "outputs": [
        {
          "output_type": "stream",
          "name": "stdout",
          "text": [
            "El área del triángulo es: 10.0\n"
          ]
        }
      ]
    },
    {
      "cell_type": "markdown",
      "source": [
        "# **Día 5. Operadores (Nivel 1)**\n"
      ],
      "metadata": {
        "id": "5ne0aMtHyA_R"
      }
    },
    {
      "cell_type": "markdown",
      "source": [
        "**Ejercicio:**\n",
        "\n",
        "Crea un programa que calcule el promedio de tres números ingresados por el usuario y lo muestre en pantalla."
      ],
      "metadata": {
        "id": "Dgy4rvGk5Ykt"
      }
    },
    {
      "cell_type": "code",
      "source": [
        "# Escribe aquí tu código\n",
        "\n",
        "\n",
        "n1 = float(input(\"Introduzca valor 1: \"))\n",
        "n2 = float(input(\"Introduzca valor 2: \"))\n",
        "n3 = float(input(\"Introduzca valor 3: \"))\n",
        "promedio = float((n1 + n2 + n3) / 3)\n",
        "\n",
        "\n",
        "print(f\"El promedio de {n1}, {n2} y {n3} es igual a: {promedio}\")\n"
      ],
      "metadata": {
        "id": "f29333TCYG17",
        "colab": {
          "base_uri": "https://localhost:8080/"
        },
        "outputId": "2cc45297-aab2-450d-d34c-1d0f6fb69cf2"
      },
      "execution_count": null,
      "outputs": [
        {
          "output_type": "stream",
          "name": "stdout",
          "text": [
            "Introduzca valor 1: 4\n",
            "Introduzca valor 2: 5\n",
            "Introduzca valor 3: 8\n",
            "El promedio de 4.0, 5.0 y 8.0 es igual a: 5.666666666666667\n"
          ]
        }
      ]
    },
    {
      "cell_type": "code",
      "source": [
        "# @title Solución Día 5\n",
        "\n",
        "#7. Crea un programa que calcule el promedio de tres números ingresados por el usuario y lo muestre en pantalla\n",
        "# Solicitar al usuario que ingrese los tres números\n",
        "num1 = float(input(\"Ingresa el primer número: \"))\n",
        "num2 = float(input(\"Ingresa el segundo número: \"))\n",
        "num3 = float(input(\"Ingresa el tercer número: \"))\n",
        "\n",
        "# Calcular el promedio\n",
        "promedio = (num1 + num2 + num3) / 3\n",
        "\n",
        "# Mostrar el resultado\n",
        "print(f\"El promedio de {num1}, {num2} y {num3} es igual a: {promedio}\")"
      ],
      "metadata": {
        "cellView": "form",
        "id": "d6cl1hKZrzpD",
        "colab": {
          "base_uri": "https://localhost:8080/"
        },
        "outputId": "75e51250-ee1d-4700-99e0-1554d89a08e7"
      },
      "execution_count": null,
      "outputs": [
        {
          "output_type": "stream",
          "name": "stdout",
          "text": [
            "Ingresa el primer número: 3\n",
            "Ingresa el segundo número: 4\n",
            "Ingresa el tercer número: 5\n",
            "El promedio de 3.0, 4.0 y 5.0 es igual a: 4.0\n"
          ]
        }
      ]
    },
    {
      "cell_type": "markdown",
      "source": [
        "# **Día 6.Strings y Operaciones con Strings (Nivel 1)**"
      ],
      "metadata": {
        "id": "XKDM3MHYYOpL"
      }
    },
    {
      "cell_type": "markdown",
      "source": [
        "Aprende a trabajar con cadenas de texto en Python.\n",
        "\n",
        "\n",
        "\n"
      ],
      "metadata": {
        "id": "JVzemDWtYUkE"
      }
    },
    {
      "cell_type": "markdown",
      "source": [
        "**Ejercicio:**\n",
        "\n",
        "Escribe un programa que cuente cuántas veces aparece una letra específica en una cadena."
      ],
      "metadata": {
        "id": "eZMVL70j5TXE"
      }
    },
    {
      "cell_type": "code",
      "source": [
        "# Escribe aquí tu código\n",
        "cadena = \"hola, soy Araceli y no tengo ni idea de python\"\n",
        "letra = \"a\"\n",
        "contar = cadena.count(letra)\n",
        "print(\"La letra '{}' aparece {} veces.\".format(letra, contar))\n"
      ],
      "metadata": {
        "id": "fKZWrDyVYRyJ",
        "colab": {
          "base_uri": "https://localhost:8080/"
        },
        "outputId": "d35cd97c-b8b2-4757-9417-c8f03757192d"
      },
      "execution_count": null,
      "outputs": [
        {
          "output_type": "stream",
          "name": "stdout",
          "text": [
            "La letra 'a' aparece 3 veces.\n"
          ]
        }
      ]
    },
    {
      "cell_type": "code",
      "source": [
        "# @title Solución Día 6\n",
        "\n",
        "#8. Escribe un programa que cuente cuántas veces aparece una letra específica en una cadena.\n",
        "cadena = \"¡Hola, mundo!\"\n",
        "letra = \"o\"\n",
        "conteo = cadena.count(letra)\n",
        "print(\"La letra '{}' aparece {} veces.\".format(letra, conteo))\n",
        "\n"
      ],
      "metadata": {
        "id": "jgqZ82lxr7GJ"
      },
      "execution_count": null,
      "outputs": []
    },
    {
      "cell_type": "markdown",
      "source": [
        "# **Día 7.Strings y operaciones (Nivel 1)**"
      ],
      "metadata": {
        "id": "ctYW-C2oyO4n"
      }
    },
    {
      "cell_type": "markdown",
      "source": [
        "En el siguiente ejercicio debes usar el método len() para la longuitud de la cadena"
      ],
      "metadata": {
        "id": "nfhnsVXmPXtG"
      }
    },
    {
      "cell_type": "markdown",
      "source": [
        "**Ejercicio:**\n",
        "\n",
        "Determinar la longitud de un string"
      ],
      "metadata": {
        "id": "Tzce6HA15L7S"
      }
    },
    {
      "cell_type": "code",
      "source": [
        "# Escribe aquí tu código\n",
        "palabra = input(\"Introduzca una palabra: \")\n",
        "longitud = len(palabra)\n",
        "print(f\"La longitud de la palabra '{palabra}' es {longitud}.\")\n"
      ],
      "metadata": {
        "id": "m2xySen8EG8G",
        "colab": {
          "base_uri": "https://localhost:8080/"
        },
        "outputId": "63df314e-953a-427d-ba5d-9903db97b10b"
      },
      "execution_count": null,
      "outputs": [
        {
          "output_type": "stream",
          "name": "stdout",
          "text": [
            "Introduzca una palabra: maravilla\n",
            "La longitud de la palabra 'maravilla' es 9.\n"
          ]
        }
      ]
    },
    {
      "cell_type": "code",
      "source": [
        "# @title Solución Día 7\n",
        "\n",
        "#9. Determinar la Longitud de un string\n",
        "# Solicitar al usuario ingresar una palabra\n",
        "palabra = input(\"Ingresa una palabra: \")\n",
        "\n",
        "# Calcular y mostrar la longitud de la palabra\n",
        "longitud = len(palabra)\n",
        "print(f\"La longitud de la palabra '{palabra}' es {longitud}.\")"
      ],
      "metadata": {
        "cellView": "form",
        "id": "nqmB8osFsoOa",
        "colab": {
          "base_uri": "https://localhost:8080/"
        },
        "outputId": "9665ed03-344b-43b4-da05-681eae325b5c"
      },
      "execution_count": null,
      "outputs": [
        {
          "output_type": "stream",
          "name": "stdout",
          "text": [
            "Ingresa una palabra: hola\n",
            "La longitud de la palabra 'hola' es 4.\n"
          ]
        }
      ]
    },
    {
      "cell_type": "markdown",
      "source": [
        "## **Ver Sesión 2 Minibootcamp Python**\n",
        "\n",
        "En esta sesión aprenderás:\n",
        "- If-Else\n",
        "- Bucles for\n",
        "- Bucles while\n",
        "- Funciones\n",
        "- Listas y tuplas\n",
        "- Diccionarios\n",
        "\n",
        "Acceso a la sesión:\n",
        "[Sesión 2 Minibootcamp Python](https://nodd3r.com/masters/masterclass/courses/minibootcamp-python/theory/sesion-2-teoria-practica-python-intermedio)"
      ],
      "metadata": {
        "id": "Dv_GRvzIs_1p"
      }
    },
    {
      "cell_type": "markdown",
      "source": [
        "# **Día 8. Bucles - For y While (Nivel 1)**\n"
      ],
      "metadata": {
        "id": "FoXyEIvFYgqK"
      }
    },
    {
      "cell_type": "markdown",
      "source": [
        "Introdúcete en los bucles for y while.\n",
        "\n",
        "Link bucles: https://nodd3r.com/masters/master-data-science/courses/programacion-python/theory/que-es-un-bucle-for"
      ],
      "metadata": {
        "id": "26EuxkcDYlo2"
      }
    },
    {
      "cell_type": "markdown",
      "source": [
        "**Ejercicio:**\n",
        "\n",
        "Crea un programa que imprima los números del 1 al 10 utilizando un bucle."
      ],
      "metadata": {
        "id": "XhKI0orA5DtV"
      }
    },
    {
      "cell_type": "code",
      "source": [
        "# Escribe aquí tu código\n",
        "for numero in range(1, 11):\n",
        "    print(numero)\n",
        "\n",
        "\n"
      ],
      "metadata": {
        "id": "Bz4S9lvXYpeN",
        "colab": {
          "base_uri": "https://localhost:8080/"
        },
        "outputId": "40f24a41-ffe3-4652-d29a-a0848888ab37"
      },
      "execution_count": null,
      "outputs": [
        {
          "output_type": "stream",
          "name": "stdout",
          "text": [
            "1\n",
            "2\n",
            "3\n",
            "4\n",
            "5\n",
            "6\n",
            "7\n",
            "8\n",
            "9\n",
            "10\n"
          ]
        }
      ]
    },
    {
      "cell_type": "code",
      "source": [
        "# @title Solución Día 8\n",
        "\n",
        "#10 Crea un programa que imprima los números del 1 al 10 utilizando un bucle.\n",
        "\n",
        "# Utilizar un bucle for para imprimir números del 1 al 10\n",
        "for numero in range(1, 11):\n",
        "    print(numero)"
      ],
      "metadata": {
        "cellView": "form",
        "id": "RVPTO2lksu_g"
      },
      "execution_count": null,
      "outputs": []
    },
    {
      "cell_type": "markdown",
      "source": [
        "# **Día 9. Bucles - For y While (Nivel 1)**\n"
      ],
      "metadata": {
        "id": "QLwoOJk4yWS4"
      }
    },
    {
      "cell_type": "markdown",
      "source": [
        "**Ejercicio**:\n",
        "Adivina el número: Pide al usuario adivinar un número y sigue pidiendo hasta que lo adivine (el número a adivinar será definido como una variable inicial).\n",
        "\n",
        "Link bucles while: https://nodd3r.com/masters/master-data-science/courses/programacion-python/theory/que-es-un-bucle-while"
      ],
      "metadata": {
        "id": "tYanM-H14zUK"
      }
    },
    {
      "cell_type": "code",
      "source": [
        "# Escribe aquí tu código\n",
        "for numero in range(1, 11):\n",
        "    print(numero)\n",
        "\n",
        "# Número Secreto\n",
        "numero = 9\n",
        "\n",
        "# Pedimos el número al usuario\n",
        "adivinanza = int(input(\"Adivina un número del 1 al 10: \"))\n",
        "\n",
        "# Iniciar bucle\n",
        "while adivinanza != numero:\n",
        "    print(\"Sigue intentándolo\")\n",
        "    adivinanza = int(input(\"Adivina un número del 1 al 10: \"))\n",
        "\n",
        "# Y cuando acierte\n",
        "print(\"¡Bingo! {} era el número buscado\".format(numero))\n"
      ],
      "metadata": {
        "id": "9NtNWLy4Ys6O",
        "colab": {
          "base_uri": "https://localhost:8080/"
        },
        "outputId": "627bb0d7-2ddc-4c47-fda2-6f3ce8146215"
      },
      "execution_count": null,
      "outputs": [
        {
          "output_type": "stream",
          "name": "stdout",
          "text": [
            "1\n",
            "2\n",
            "3\n",
            "4\n",
            "5\n",
            "6\n",
            "7\n",
            "8\n",
            "9\n",
            "10\n",
            "Adivina un número del 1 al 10: 4\n",
            "Sigue intentándolo\n",
            "Adivina un número del 1 al 10: 9\n",
            "¡Bingo! 9 era el número buscado\n"
          ]
        }
      ]
    },
    {
      "cell_type": "code",
      "source": [
        "# @title Solución Día 9\n",
        "\n",
        "#11. Adivina el número: Pide al usuario adivinar un número y sigue pidiendo hasta que lo adivine.(el número a adivinar será definido como una variable inicial)\n",
        "# Definir el número a adivinar\n",
        "numero_secreto = 42\n",
        "\n",
        "# Pedir al usuario que adivine el número\n",
        "adivinanza = int(input(\"Adivina el número: \"))\n",
        "\n",
        "# Iniciar un bucle while para seguir pidiendo hasta que se adivine el número\n",
        "while adivinanza != numero_secreto:\n",
        "    print(\"Incorrecto. Intenta de nuevo.\")\n",
        "    adivinanza = int(input(\"Adivina el número: \"))\n",
        "\n",
        "# Si llegamos aquí, el usuario adivinó correctamente\n",
        "print(\"¡Felicitaciones! Adivinaste el número correcto:\", numero_secreto)\n",
        "\n",
        "# -----------------\n",
        "# otro ejemplo\n",
        "\n",
        "# 1. Pidas un número a un usuario\n",
        "num_user = int(input('Dime un numero:'))\n",
        "# 2. Crear el número correcto antes en una variable\n",
        "num_check = 5\n",
        "\n",
        "while num_user != num_check:\n",
        "  print('No es correcto')\n",
        "  num_user = int(input('Dime un numer:'))\n",
        "\n",
        "\n",
        "print('Has acertado!')\n",
        "\n"
      ],
      "metadata": {
        "id": "LPTDab3vtcMO",
        "colab": {
          "base_uri": "https://localhost:8080/"
        },
        "cellView": "form",
        "outputId": "220c8a71-c781-4c46-a503-d9c44070fa41"
      },
      "execution_count": null,
      "outputs": [
        {
          "output_type": "stream",
          "name": "stdout",
          "text": [
            "Adivina el número: 5\n",
            "Incorrecto. Intenta de nuevo.\n",
            "Adivina el número: 42\n",
            "¡Felicitaciones! Adivinaste el número correcto: 42\n",
            "Dime un numero:6\n",
            "No es correcto\n",
            "Dime un numer:42\n",
            "No es correcto\n",
            "Dime un numer:5\n",
            "Has acertado!\n"
          ]
        }
      ]
    },
    {
      "cell_type": "markdown",
      "source": [
        "# **Día 10. Condicionales y sentencias if-else (Nivel 1)**\n",
        "\n",
        "**Ejercicio**\n",
        "Escribe un programa en Python que solicite al usuario ingresar un número.\n",
        "\n",
        "Luego, verifica si el número se encuentra dentro del rango de 10 a 50 (inclusive).\n",
        "\n",
        "Si el número está dentro de ese rango, el programa deberá imprimir \"El número está en el rango de 10 a 50\".\n",
        "\n",
        "En caso contrario, imprimirá \"El número está fuera del rango de 10 a 50\".\n",
        "\n",
        "Ejecuta el programa y verifica si un número dado se encuentra dentro del rango especificado.\n",
        "\n",
        "Link a teoría:https://nodd3r.com/masters/master-data-science/courses/programacion-python/theory/sentencia-if-else"
      ],
      "metadata": {
        "id": "hXOUltepQi7v"
      }
    },
    {
      "cell_type": "code",
      "source": [
        "# Escribe aquí el código\n",
        "#Pedir ingresar un número\n",
        "numero = int(input(\"Ingrese un número: \"))\n",
        "\n",
        "#Número dentro del rango 10 a 50\n",
        "if numero >=10 and numero <= 50:\n",
        "  print(\"El número está en el rango de 10 a 50\")\n",
        "else:\n",
        "  print(\"El número está fuera del rango de 10 a 50\")\n",
        "\n"
      ],
      "metadata": {
        "id": "s9SaYY5bQZeo",
        "colab": {
          "base_uri": "https://localhost:8080/"
        },
        "outputId": "6bb022e3-89ce-44fb-ad51-be9d2ac2a421"
      },
      "execution_count": null,
      "outputs": [
        {
          "output_type": "stream",
          "name": "stdout",
          "text": [
            "Ingrese un número: 48\n",
            "El número está en el rango de 10 a 50\n"
          ]
        }
      ]
    },
    {
      "cell_type": "code",
      "source": [
        "# @title Solución Día 10\n",
        "\n",
        "#12. Determinar si un número está en un rango específico\n",
        "\n",
        "# Solicitar al usuario ingresar un número\n",
        "numero_ingresado = float(input(\"Ingrese un número: \"))\n",
        "\n",
        "# Verificar si el número está dentro del rango de 10 a 50\n",
        "if 10 <= numero_ingresado <= 50:\n",
        "    print(\"El número está en el rango de 10 a 50.\")\n",
        "else:\n",
        "    print(\"El número está fuera del rango de 10 a 50.\")\n"
      ],
      "metadata": {
        "cellView": "form",
        "id": "et3I64KMt0Wm",
        "colab": {
          "base_uri": "https://localhost:8080/"
        },
        "outputId": "5fc713f4-6cf9-43ec-81b8-1c76246b42aa"
      },
      "execution_count": null,
      "outputs": [
        {
          "output_type": "stream",
          "name": "stdout",
          "text": [
            "Ingrese un número: 48\n",
            "El número está en el rango de 10 a 50.\n"
          ]
        }
      ]
    },
    {
      "cell_type": "markdown",
      "source": [
        "# **Día 11. Encuentra errores y practica (nivel 1)**"
      ],
      "metadata": {
        "id": "sDVTgAWcY0XC"
      }
    },
    {
      "cell_type": "markdown",
      "source": [
        "En programación es muy importante saber gestionar los errores cotidianos y tener presente las estructuras"
      ],
      "metadata": {
        "id": "Hs1kLsU9Y9KE"
      }
    },
    {
      "cell_type": "markdown",
      "source": [
        "**Ejercicio:**\n",
        "Busca el error en los siguientes códigos y solucionalos:"
      ],
      "metadata": {
        "id": "yRV687JT4oFX"
      }
    },
    {
      "cell_type": "code",
      "source": [
        "#13 Busca el error en los siguientes códigos y solucionalos:\n",
        "\n",
        "#Ejercicio 1: Le faltaba el espacio\n",
        "total = 0\n",
        "for i in range(1, 11):\n",
        "    if i % 2 == 0:\n",
        "        total += i\n",
        "\n",
        "print(\"La suma de los números pares es:\", total)\n",
        "\n"
      ],
      "metadata": {
        "id": "OooLVqydZAId",
        "colab": {
          "base_uri": "https://localhost:8080/"
        },
        "outputId": "5b5c5edd-f057-4aab-d169-1fb8e3c7bbce"
      },
      "execution_count": null,
      "outputs": [
        {
          "output_type": "stream",
          "name": "stdout",
          "text": [
            "La suma de los números pares es: 30\n"
          ]
        }
      ]
    },
    {
      "cell_type": "code",
      "source": [
        "#Ejercicio 2: para comparar va con dos \"==\" (ok) y no solo \"=\" (mal)\n",
        "edad = 20\n",
        "if edad == 20:\n",
        "    print(\"Tienes 20 años\")"
      ],
      "metadata": {
        "id": "nKXVSdD1ZL9_",
        "colab": {
          "base_uri": "https://localhost:8080/"
        },
        "outputId": "b6efa5a8-cf33-42e4-abf2-e4239e458c10"
      },
      "execution_count": null,
      "outputs": [
        {
          "output_type": "stream",
          "name": "stdout",
          "text": [
            "Tienes 20 años\n"
          ]
        }
      ]
    },
    {
      "cell_type": "code",
      "source": [
        "#Ejercicio 3: no se pueden sumar entero + string\n",
        "\n",
        "# o bien eliminamos las comillas del \"5\", modificando la variable:\n",
        "numero = 10\n",
        "cadena = 5\n",
        "resultado = numero + cadena\n",
        "print(resultado)\n",
        "\n",
        "# o lo convertimos a un int:\n",
        "\n",
        "numero = 10\n",
        "cadena = \"5\"\n",
        "resultado = numero + int(cadena)\n",
        "print(resultado)\n"
      ],
      "metadata": {
        "id": "9xksimlWZRbb",
        "colab": {
          "base_uri": "https://localhost:8080/"
        },
        "outputId": "c6b2a2c4-73da-4a58-a54d-499e5635f7bf"
      },
      "execution_count": null,
      "outputs": [
        {
          "output_type": "stream",
          "name": "stdout",
          "text": [
            "15\n",
            "15\n"
          ]
        }
      ]
    },
    {
      "cell_type": "code",
      "source": [
        "# @title Solución día 11\n",
        "\n",
        "# Ejercicio 1:\n",
        "# problemas de identación\n",
        "total = 0\n",
        "for i in range(1, 11):\n",
        "    if i % 2 == 0:\n",
        "        total += i\n",
        "\n",
        "print(\"La suma de los números pares es:\", total)\n",
        "\n",
        "# Ejercicio 2:\n",
        "# error en el operador \"=\" en el if, debería ser \"==\"\n",
        "edad = 20\n",
        "if edad == 20:\n",
        "    print(\"Tienes 20 años\")\n",
        "\n",
        "\n",
        "# Ejercicio 3:\n",
        "# no se puede sumar un entero con un string, convertir string a entero con int()\n",
        "numero = 10\n",
        "cadena = \"5\"\n",
        "resultado = numero + int(cadena)\n",
        "\n",
        "print(resultado)\n"
      ],
      "metadata": {
        "id": "L-lYcYWOu_zh"
      },
      "execution_count": null,
      "outputs": []
    },
    {
      "cell_type": "markdown",
      "source": [
        "# **Día 12. Funciones (Nivel 2)**\n",
        "Comprende cómo definir y llamar a funciones en Python.\n",
        "\n",
        "Las funciones en Python son como pequeñas tareas o acciones que puedes definir y luego reutilizar en tu código. Imagina que tienes un conjunto de pasos que quieres realizar en varias partes de tu programa. En lugar de escribir esos pasos una y otra vez, puedes agruparlos en una función y darle un nombre descriptivo.\n",
        "\n",
        "**Definición de una función:** Primero, defines una función dando un nombre a la tarea que realizará. Por ejemplo, podrías crear una función llamada saludar para decir \"Hola\" a alguien.\n",
        "\n",
        "**Parámetros:** Puedes darle a tu función información para que trabaje. Estos datos se llaman parámetros y se colocan entre paréntesis después del nombre de la función. Por ejemplo, podrías pasar el nombre de una persona como parámetro a la función saludar.\n",
        "\n",
        "**Cuerpo de la función:** Aquí es donde escribes los pasos que la función realizará cuando sea llamada. En el caso de saludar, el cuerpo de la función contendría las instrucciones para imprimir \"Hola\" seguido del nombre que se proporcionó como parámetro.\n",
        "\n",
        "**Llamada a la función:** Cuando quieras ejecutar los pasos definidos en la función, simplemente llamas a la función por su nombre, pasando cualquier información necesaria como parámetros. En nuestro ejemplo, podrías llamar a saludar(\"Juan\") para decir \"Hola Juan\".\n",
        "\n",
        "` def nombre_fucion (parametros)`"
      ],
      "metadata": {
        "id": "i4OodphiZVDQ"
      }
    },
    {
      "cell_type": "markdown",
      "source": [
        "Comprende cómo definir y llamar a funciones en Python.\n",
        "\n",
        "Link funciones: https://nodd3r.com/masters/master-data-science/courses/programacion-python/theory/que-son-las-funciones"
      ],
      "metadata": {
        "id": "Ga7SOaZ5iAVc"
      }
    },
    {
      "cell_type": "markdown",
      "source": [
        "**Ejercicio:**\n",
        "Crea una función que calcule el área de un círculo dado su radio.\n"
      ],
      "metadata": {
        "id": "LTBA8AN94iNL"
      }
    },
    {
      "cell_type": "code",
      "source": [
        "def area_circulo(radio):\n",
        "    return 3.1416 * radio * radio\n",
        "\n",
        "radio = 5.5\n",
        "area = area_circulo(radio)\n",
        "print(\"El área del círculo es:\", area)"
      ],
      "metadata": {
        "id": "q3aLBrq-iGmo",
        "colab": {
          "base_uri": "https://localhost:8080/"
        },
        "outputId": "c7cfc5f2-a251-4abc-c037-9da97ffd82c1"
      },
      "execution_count": null,
      "outputs": [
        {
          "output_type": "stream",
          "name": "stdout",
          "text": [
            "El área del círculo es: 95.0334\n"
          ]
        }
      ]
    },
    {
      "cell_type": "code",
      "source": [
        "# @title Solución  Día 12\n",
        "\n",
        "#14 Crea una función que calcule el área de un círculo dado su radio.\n",
        "def area_circulo(radio):\n",
        "    return 3.1416 * radio * radio\n",
        "\n",
        "radio = 2.5\n",
        "area = area_circulo(radio)\n",
        "print(\"El área del círculo es:\", area)\n"
      ],
      "metadata": {
        "id": "Xuf6ubbNv0wm",
        "colab": {
          "base_uri": "https://localhost:8080/"
        },
        "outputId": "8f128158-7f6b-4291-a28c-efc656e79d89"
      },
      "execution_count": null,
      "outputs": [
        {
          "output_type": "stream",
          "name": "stdout",
          "text": [
            "El área del círculo es: 19.635\n"
          ]
        }
      ]
    },
    {
      "cell_type": "markdown",
      "source": [
        "# **Día 13. Funciones (Nivel 2)**\n"
      ],
      "metadata": {
        "id": "r01Dho9jygFA"
      }
    },
    {
      "cell_type": "markdown",
      "source": [
        "**Ejercicio:**\n",
        "Escribe una función llamada saludar(nombre) que tome un parámetro nombre.\n",
        "\n",
        "Esta función debe imprimir un saludo personalizado utilizando el nombre proporcionado como argumento.\n",
        "\n",
        "Llama a la función con el nombre \"Juan\" y verifica que se muestre el saludo."
      ],
      "metadata": {
        "id": "6nByi8pY4aSA"
      }
    },
    {
      "cell_type": "code",
      "source": [
        "# Escribe aquí tu código\n",
        "\n",
        "def saludo (nombre):\n",
        "  print(f\"Hola, {nombre}\")\n",
        "saludo(\"Juan\")"
      ],
      "metadata": {
        "id": "ZTDUkdkWiIpP",
        "colab": {
          "base_uri": "https://localhost:8080/"
        },
        "outputId": "a74d0f5c-5e59-43ee-c671-6b7043f13302"
      },
      "execution_count": null,
      "outputs": [
        {
          "output_type": "stream",
          "name": "stdout",
          "text": [
            "Hola, Juan\n"
          ]
        }
      ]
    },
    {
      "cell_type": "code",
      "source": [
        "# @title Solución Día 13\n",
        "\n",
        "# 15 Escribe una función llamada saludar(nombre) que tome un parámetro nombre.\n",
        "# Esta función debe imprimir un saludo personalizado utilizando el nombre proporcionado como argumento.\n",
        "# Llama a la función con el nombre \"Juan\" y verifica que se muestre el saludo.\n",
        "\n",
        "# Definición de la función saludar con un parámetro nombre\n",
        "def saludar(nombre):\n",
        "    print(f\"¡Hola, {nombre}!\")\n",
        "\n",
        "# Llamada a la función con el nombre \"Juan\"\n",
        "saludar(\"Juan\")\n",
        "\n"
      ],
      "metadata": {
        "cellView": "form",
        "id": "mDBrg5UHv7sY"
      },
      "execution_count": null,
      "outputs": []
    },
    {
      "cell_type": "markdown",
      "source": [
        "# **Día 14. Funciones (Nivel 2)**\n"
      ],
      "metadata": {
        "id": "JyhJMA-vyinQ"
      }
    },
    {
      "cell_type": "markdown",
      "source": [
        "**Ejercicio:**\n",
        "Crea una función para contar la cantidad de palabras en una cadena de texto\n"
      ],
      "metadata": {
        "id": "Cg1UEfN84TLp"
      }
    },
    {
      "cell_type": "code",
      "source": [
        "# Escribe aquí tu código\n",
        "\n",
        "def contar_palabras(texto):\n",
        "    palabras = texto.split()\n",
        "    return len(palabras)\n",
        "\n",
        "frase = \"Dime cuántas palabras tiene esta frase.\"\n",
        "cantidad_palabras = contar_palabras(frase)\n",
        "print(f\"Tu frase tiene {cantidad_palabras} palabras.\")"
      ],
      "metadata": {
        "id": "QJSlckkYPUIF",
        "colab": {
          "base_uri": "https://localhost:8080/"
        },
        "outputId": "6e89e663-5bb9-466b-8dc5-ab6f99a2a88c"
      },
      "execution_count": null,
      "outputs": [
        {
          "output_type": "stream",
          "name": "stdout",
          "text": [
            "Tu frase tiene 6 palabras.\n"
          ]
        }
      ]
    },
    {
      "cell_type": "code",
      "source": [
        "# @title Solución Día 14\n",
        "\n",
        "#16 Crea una función para contar la cantidad de palabras en una cadena de texto\n",
        "def contar_palabras(texto):\n",
        "    palabras = texto.split()\n",
        "    return len(palabras)\n",
        "\n",
        "frase = \"Hola, esto es un ejemplo de conteo de palabras.\"\n",
        "cantidad_palabras = contar_palabras(frase)\n",
        "print(f\"La frase tiene {cantidad_palabras} palabras.\")\n",
        "\n"
      ],
      "metadata": {
        "id": "zlb1ICBAwNvj"
      },
      "execution_count": null,
      "outputs": []
    },
    {
      "cell_type": "markdown",
      "source": [
        "# **Día 15. Listas (Nivel 2)**\n",
        "\n",
        "\n",
        "\n",
        "*   Una lista es una colección ordenada y modificable de elementos en Python.\n",
        "*   Puedes crear una lista usando corchetes [] y separando los elementos por comas.\n",
        "*   Puedes acceder a los elementos de una lista mediante su índice (empezando desde 0).\n",
        "\n",
        "\n",
        "```\n",
        "mi_lista = [1, 2, 3, 4, 5]\n",
        "```\n",
        "\n",
        "Link listas: https://nodd3r.com/masters/master-data-science/courses/programacion-python/theory/que-son-las-listas"
      ],
      "metadata": {
        "id": "aWBpvaDKigyZ"
      }
    },
    {
      "cell_type": "markdown",
      "source": [
        "**Ejercicio:**\n",
        "Escribe un programa que sume todos los elementos de una lista de números"
      ],
      "metadata": {
        "id": "VuCkTlGX0HXd"
      }
    },
    {
      "cell_type": "code",
      "source": [
        "# Escribe aquí tu código\n",
        "#Creamos la lista:\n",
        "mi_lista = [2, 3, 5, 8, 9]\n",
        "\n",
        "#creamos la función:\n",
        "resultado = sum(mi_lista)\n",
        "\n",
        "#printamos:\n",
        "print(\"La suma de mi lista:\", resultado)\n"
      ],
      "metadata": {
        "colab": {
          "base_uri": "https://localhost:8080/"
        },
        "id": "3H4LR0lViLyb",
        "outputId": "b2d46767-45f2-4f97-9768-6b5f00d6ec09"
      },
      "execution_count": null,
      "outputs": [
        {
          "output_type": "stream",
          "name": "stdout",
          "text": [
            "La suma de mi lista: 27\n"
          ]
        }
      ]
    },
    {
      "cell_type": "code",
      "source": [
        "# @title Solución Día 15\n",
        "\n",
        "#17 Escribe un programa que sume todos los elementos de una lista de números.\n",
        "\n",
        "# Definir una lista de números\n",
        "numeros = [1, 2, 3, 4, 5]\n",
        "\n",
        "# Inicializar una variable para almacenar la suma\n",
        "suma = 0\n",
        "\n",
        "# Iterar a través de la lista y sumar cada elemento a la variable suma\n",
        "for numero in numeros:\n",
        "    suma += numero\n",
        "\n",
        "# Imprimir el resultado\n",
        "print(\"La suma de los números es:\", suma)\n"
      ],
      "metadata": {
        "cellView": "form",
        "id": "B63pclNCwVXF"
      },
      "execution_count": null,
      "outputs": []
    },
    {
      "cell_type": "markdown",
      "source": [
        "## Ver sesión 3 Minibootcamp\n",
        "\n",
        "En esta sesión aprenderás:\n",
        "- Archivos\n",
        "\n",
        "- Excepciones\n",
        "\n",
        "- Comprehensions\n",
        "\n",
        "- Regex\n",
        "\n",
        "Puedes acceder aquí:\n",
        "[Sesión 3 Minibootcamp Python](https://nodd3r.com/masters/masterclass/courses/minibootcamp-python/theory/sesion-3-python-avanzado-teoria-practica)"
      ],
      "metadata": {
        "id": "6lAh56EXwo-D"
      }
    },
    {
      "cell_type": "markdown",
      "source": [
        "# **Día 16. Listas (Nivel 2)**\n",
        "\n",
        "**Ejercicio**:\n",
        "Crea un programa que permita al usuario ingresar una lista de números y luego ordene esos números en orden ascendente. El programa debe hacer lo siguiente:\n",
        "\n",
        "Pedir al usuario que ingrese una serie de números, uno por uno, y almacenarlos en una lista.\n",
        "\n",
        "Ordenar la lista de números en orden ascendente.\n",
        "\n",
        "Mostrar la lista ordenada al usuario.\n",
        "\n"
      ],
      "metadata": {
        "id": "7eCIJZLQypSZ"
      }
    },
    {
      "cell_type": "code",
      "source": [
        "# Escribe aquí tu código\n",
        "\n",
        "#Pedimos al usuario que ingrese una serie de números:\n",
        "\n",
        "numeros = []\n",
        "while True:\n",
        "    numero = input(\"Ingrese un número (o 'fin' para finalizar): \")\n",
        "    if numero.lower() == 'fin': #para que cuando pongan \"fin\" valga tanto \"FIN como fin\"\n",
        "        break #para que termine el bucle y se pone al principio para que el comando \"numero = float (numero)\" sea después y así no da error\n",
        "    try:\n",
        "        numero = float(numero) #por si el usuario mete un float\n",
        "        numeros.append(numero) #para que añada el número al final\n",
        "    except ValueError:\n",
        "        print(\"Por favor, ingrese un número válido.\")\n",
        "\n",
        "# Paso 2: Ordenar la lista de números en orden ascendente\n",
        "numeros.sort()\n",
        "\n",
        "# Paso 3: Mostrar la lista ordenada al usuario\n",
        "print(\"Lista de números ordenada:\")\n",
        "for numero in numeros:\n",
        "    print(numero)\n"
      ],
      "metadata": {
        "id": "91u9TcWtu7MN",
        "colab": {
          "base_uri": "https://localhost:8080/"
        },
        "outputId": "bbe8c5a0-e84c-413a-cb4a-2c3d6606e567"
      },
      "execution_count": null,
      "outputs": [
        {
          "output_type": "stream",
          "name": "stdout",
          "text": [
            "Ingrese un número (o 'fin' para finalizar): 91\n",
            "Ingrese un número (o 'fin' para finalizar): 23\n",
            "Ingrese un número (o 'fin' para finalizar): 34\n",
            "Ingrese un número (o 'fin' para finalizar): 56\n",
            "Ingrese un número (o 'fin' para finalizar): 79\n",
            "Ingrese un número (o 'fin' para finalizar): fin\n",
            "Lista de números ordenada:\n",
            "23.0\n",
            "34.0\n",
            "56.0\n",
            "79.0\n",
            "91.0\n"
          ]
        }
      ]
    },
    {
      "cell_type": "code",
      "source": [
        "# @title Solución Día 16\n",
        "\n",
        "numeros = []\n",
        "while True:\n",
        "    numero = input(\"Ingrese un número (o 'fin' para finalizar): \")\n",
        "    if numero.lower() == 'fin':\n",
        "        break\n",
        "    try:\n",
        "        numero = float(numero)\n",
        "        numeros.append(numero)\n",
        "    except ValueError:\n",
        "        print(\"Por favor, ingrese un número válido.\")\n",
        "\n",
        "# Paso 2: Ordenar la lista de números en orden ascendente\n",
        "numeros.sort()\n",
        "\n",
        "# Paso 3: Mostrar la lista ordenada al usuario\n",
        "print(\"Lista de números ordenada:\")\n",
        "for numero in numeros:\n",
        "    print(numero)\n",
        "\n"
      ],
      "metadata": {
        "cellView": "form",
        "id": "44Mt-pU1wetw"
      },
      "execution_count": null,
      "outputs": []
    },
    {
      "cell_type": "markdown",
      "source": [
        "# DUDAS RETO PYTHON (20.02.2024)"
      ],
      "metadata": {
        "id": "fygOPC4vePuN"
      }
    },
    {
      "cell_type": "code",
      "source": [
        "#TABLA MULTIPLICAR EN FORMATO TABULAR --->\n",
        "\n",
        "def tabla_multiplicar():\n",
        "    print(\"Tabla de multiplicar del 1 al 10:\")\n",
        "\n",
        "    # Imprime encabezado\n",
        "    print(\"   |\", end=\"\")\n",
        "    for i in range(1, 11):\n",
        "        print(f\" {i:2d}\", end=\"\")\n",
        "    print(\"\\n---+\" + \"----\" * 8 )\n",
        "\n",
        "    # Imprime la tabla de multiplicar\n",
        "    for i in range(1, 11):\n",
        "        print(f\"{i:2d} |\", end=\"\")\n",
        "        for j in range(1, 11):\n",
        "            resultado = i * j\n",
        "            print(f\" {resultado:2d}\", end=\"\")\n",
        "        print()\n",
        "\n",
        "# Llama a la función para imprimir la tabla de multiplicar\n",
        "tabla_multiplicar()"
      ],
      "metadata": {
        "colab": {
          "base_uri": "https://localhost:8080/"
        },
        "id": "DEzHj7tPcaF5",
        "outputId": "b5e0460d-52b2-495b-abdd-4ecaac4dfd36"
      },
      "execution_count": null,
      "outputs": [
        {
          "output_type": "stream",
          "name": "stdout",
          "text": [
            "Tabla de multiplicar del 1 al 10:\n",
            "   |  1  2  3  4  5  6  7  8  9 10\n",
            "---+--------------------------------\n",
            " 1 |  1  2  3  4  5  6  7  8  9 10\n",
            " 2 |  2  4  6  8 10 12 14 16 18 20\n",
            " 3 |  3  6  9 12 15 18 21 24 27 30\n",
            " 4 |  4  8 12 16 20 24 28 32 36 40\n",
            " 5 |  5 10 15 20 25 30 35 40 45 50\n",
            " 6 |  6 12 18 24 30 36 42 48 54 60\n",
            " 7 |  7 14 21 28 35 42 49 56 63 70\n",
            " 8 |  8 16 24 32 40 48 56 64 72 80\n",
            " 9 |  9 18 27 36 45 54 63 72 81 90\n",
            "10 | 10 20 30 40 50 60 70 80 90 100\n"
          ]
        }
      ]
    },
    {
      "cell_type": "markdown",
      "source": [
        "## ***CHATGPT ***\n",
        "\n",
        "¡Claro! Aquí tienes algunos enunciados para prácticar Python a nivel principiante:\n",
        "\n",
        "\n",
        "**Estructuras de Control:**\n",
        "\n",
        "1. Escribe un programa que pida al usuario ingresar un número e imprima si es par o impar.\n",
        "2. Crea un bucle que imprima los números del 1 al 10.\n",
        "\n",
        "**Listas:**\n",
        "\n",
        "3. Crea una lista con tus tres colores favoritos y muestra cada color en una línea.\n",
        "4. Escribe un programa que añada elementos a una lista hasta que el usuario decida salir.\n",
        "\n",
        "**Funciones:**\n",
        "\n",
        "5. Define una función que calcule el área de un triángulo con base y altura proporcionadas como argumentos.\n",
        "6. Crea una función que tome una lista de números y devuelva su suma."
      ],
      "metadata": {
        "id": "f92l2s6Pkd_J"
      }
    },
    {
      "cell_type": "code",
      "source": [
        "#ESTRUCTURAS DE CONTROL\n",
        "\n",
        "#1.Escribe un programa que pida al usuario ingresar un número e imprima si es par o impar.\n",
        "\n",
        "numero = int(input(\"Ingresa un número: \"))\n",
        "if numero %2 == 0:\n",
        "  print(\"Es un número par)\")\n",
        "else:\n",
        "  print(\"Es un número impar\")\n"
      ],
      "metadata": {
        "colab": {
          "base_uri": "https://localhost:8080/"
        },
        "id": "QsesqdNMm5jp",
        "outputId": "578eff5d-ee61-48f5-ca97-2e3599ad4061"
      },
      "execution_count": null,
      "outputs": [
        {
          "output_type": "stream",
          "name": "stdout",
          "text": [
            "Ingresa un número: 4\n",
            "Es un número par)\n"
          ]
        }
      ]
    },
    {
      "cell_type": "code",
      "source": [
        "#ESTRUCTURAS DE CONTROL\n",
        "\n",
        "#2.Crea un bucle que imprima los números del 1 al 10.\n",
        "for i in range(1, 11):\n",
        "    print(i)\n"
      ],
      "metadata": {
        "colab": {
          "base_uri": "https://localhost:8080/"
        },
        "id": "3LebKKfAp5Ca",
        "outputId": "920642e9-3253-454a-8cfc-14e132df2273"
      },
      "execution_count": null,
      "outputs": [
        {
          "output_type": "stream",
          "name": "stdout",
          "text": [
            "1\n",
            "2\n",
            "3\n",
            "4\n",
            "5\n",
            "6\n",
            "7\n",
            "8\n",
            "9\n",
            "10\n"
          ]
        }
      ]
    },
    {
      "cell_type": "code",
      "source": [
        "#LISTAS\n",
        "\n",
        "#3.Crea una lista con tus tres colores favoritos y muestra cada color en una línea.\n",
        "colores_fav = [\"amarillo\", \"verde\", \"rojo\" ]\n",
        "for colores in colores_fav:\n",
        "  print(colores)"
      ],
      "metadata": {
        "colab": {
          "base_uri": "https://localhost:8080/"
        },
        "id": "vahfZwEDsEVn",
        "outputId": "4999d3aa-adfd-4a29-ddff-e9642729ad21"
      },
      "execution_count": null,
      "outputs": [
        {
          "output_type": "stream",
          "name": "stdout",
          "text": [
            "amarillo\n",
            "verde\n",
            "rojo\n"
          ]
        }
      ]
    },
    {
      "cell_type": "code",
      "source": [
        "#LISTAS\n",
        "\n",
        "#4.Escribe un programa que añada números a una lista hasta que el usuario decida salir.\n",
        "lista_numeros = []\n",
        "while True:\n",
        "    numero = int(input(\"Ingrese un número (o 0 para salir): \"))\n",
        "    if numero == 0:\n",
        "        break\n",
        "    lista_numeros.append(numero)\n",
        "print(\"La lista final es:\", lista_numeros)"
      ],
      "metadata": {
        "id": "v8TgnnOUtGCr"
      },
      "execution_count": null,
      "outputs": []
    },
    {
      "cell_type": "code",
      "source": [
        "#FUNCIONES\n",
        "\n",
        "#5.Define una función que calcule el área de un triángulo con base y altura proporcionadas como argumentos.\n",
        "def area_triangulo(base, altura):\n",
        "  return base*altura/2\n",
        "\n",
        "area_triangulo(3,2)"
      ],
      "metadata": {
        "colab": {
          "base_uri": "https://localhost:8080/"
        },
        "id": "ubNNGdQMwty8",
        "outputId": "d606ee55-24c0-4147-fe14-f1efbfe027c6"
      },
      "execution_count": null,
      "outputs": [
        {
          "output_type": "execute_result",
          "data": {
            "text/plain": [
              "3.0"
            ]
          },
          "metadata": {},
          "execution_count": 24
        }
      ]
    },
    {
      "cell_type": "code",
      "source": [
        "#FUNCIONES\n",
        "\n",
        "#6.Crea una función que tome una lista de números y devuelva su suma.\n",
        "def suma_lista(lista):\n",
        "    suma = 0\n",
        "    for numero in lista:\n",
        "        suma += numero\n",
        "    return suma\n",
        "\n",
        "# Ejemplo\n",
        "numeros = [1, 2, 3, 4, 5]\n",
        "resultado = suma_lista(numeros)\n",
        "print(\"La suma de la lista es:\", resultado)"
      ],
      "metadata": {
        "colab": {
          "base_uri": "https://localhost:8080/"
        },
        "outputId": "9b5809b3-997d-41cf-83ad-f6785e8489d3",
        "id": "fTrXbgUl2Y9H"
      },
      "execution_count": null,
      "outputs": [
        {
          "output_type": "stream",
          "name": "stdout",
          "text": [
            "La suma de la lista es: 15\n"
          ]
        }
      ]
    },
    {
      "cell_type": "markdown",
      "source": [
        "**Ejercicio**:\n",
        "Crea un programa que sume los valores de una tupla de números y muestre el resultado."
      ],
      "metadata": {
        "id": "SKLkDaRXzrWx"
      }
    },
    {
      "cell_type": "markdown",
      "source": [
        "# **Día 17. Tuplas(Nivel 2)**\n",
        "\n",
        "\n",
        "\n",
        "*   Una tupla es similar a una lista, pero es inmutable, lo que significa que no puedes cambiar su contenido después de crearla.\n",
        "*   Puedes crear una tupla usando paréntesis () y separando los elementos por comas.\n",
        "*   Puedes acceder a los elementos de una tupla mediante su índice al igual que en las listas.\n",
        "*   Las tuplas son útiles cuando deseas almacenar datos que no deben modificarse, como coordenadas.\n",
        "\n",
        "```\n",
        "mi_tupla = (1, 2, 3, 4, 5)\n",
        "\n",
        "```\n",
        "\n",
        "Link tuplas: https://nodd3r.com/masters/master-data-science/courses/programacion-python/theory/que-son-las-tuplas"
      ],
      "metadata": {
        "id": "YvAG0N59RlFo"
      }
    },
    {
      "cell_type": "code",
      "source": [
        "# Escribe aquí tu código\n",
        "mi_tupla = (2, 4, 7, 5, 34, 48)\n",
        "suma = sum(mi_tupla)\n",
        "print(\"La suma de mi tupla es: \", suma)\n"
      ],
      "metadata": {
        "colab": {
          "base_uri": "https://localhost:8080/"
        },
        "id": "NMpYQXcqBp7Z",
        "outputId": "cc791a32-f4b8-4998-90d2-07850013203c"
      },
      "execution_count": null,
      "outputs": [
        {
          "output_type": "stream",
          "name": "stdout",
          "text": [
            "La suma de mi tupla es:  100\n"
          ]
        }
      ]
    },
    {
      "cell_type": "code",
      "source": [
        "# @title Solución Día 17\n",
        "\n",
        "#19 Crea un programa que sume los valores de una tupla de números y muestre el resultado.\n",
        "\n",
        "# Definir una tupla de números\n",
        "numeros = (10, 20, 30, 40, 50)\n",
        "\n",
        "# Calcular la suma de los números en la tupla\n",
        "suma = sum(numeros)\n",
        "\n",
        "# Mostrar la suma en pantalla\n",
        "print(f\"La suma de los números en la tupla es: {suma}\")\n"
      ],
      "metadata": {
        "id": "_ZMCMTtcw9I6"
      },
      "execution_count": null,
      "outputs": []
    },
    {
      "cell_type": "markdown",
      "source": [
        "# **Día 18. Diccionarios (Nivel 2)**\n",
        "\n",
        "\n",
        "\n",
        "*  Un diccionario es una colección de pares clave-valor en Python.\n",
        "*  Puedes crear un diccionario usando llaves {} y especificando pares clave-valor separados por comas.\n",
        "*  Los diccionarios son útiles para representar datos estructurados y etiquetados.\n",
        "*   Puedes acceder a los valores del diccionario utilizando las claves en lugar de índices.\n",
        "\n",
        "```\n",
        "mi_diccionario = {\"nombre\": \"Juan\", \"edad\": 30, \"ciudad\": \"Ejemplo\"}\n",
        "\n",
        "\n",
        "```\n",
        "\n",
        "Link Diccionarios: https://nodd3r.com/masters/master-data-science/courses/programacion-python/theory/que-son-los-diccionarios"
      ],
      "metadata": {
        "id": "lSCxyUV-Sss0"
      }
    },
    {
      "cell_type": "markdown",
      "source": [
        "**Ejercicio**:\n",
        "\n",
        "Crea un programa que represente un diccionario de frutas y permita al usuario consultar la cantidad de cada tipo de fruta en el diccionario.\n",
        "\n",
        "El programa debe hacer lo siguiente:\n",
        "\n",
        "Inicializar un diccionario con al menos tres tipos de frutas y sus respectivas cantidades.\n",
        "\n",
        "Pedir al usuario que ingrese el nombre de una fruta.\n",
        "\n",
        "Mostrar la cantidad de esa fruta en el diccionario."
      ],
      "metadata": {
        "id": "zRoADJNwzied"
      }
    },
    {
      "cell_type": "code",
      "source": [
        "# Escribe aquí tu código\n",
        "#creo el diccionario\n",
        "frutas_dic = {'manzana': 23, \"pera\": 49, 'kiwi': 19}\n",
        "\n",
        "#pido al usuario que elija entre las tres frutas\n",
        "seleccion = input(\"Elige entre manzana, pera y kiwi: \")\n",
        "\n",
        "#Muestro el número de piezas de la fruta seleccionada\n",
        "valor_fruta_seleccionada = frutas_dic [seleccion]\n",
        "print(f\"La cantidad de {seleccion} es: {valor_fruta_seleccionada}.\")\n",
        "\n"
      ],
      "metadata": {
        "id": "m4s3IuqfCPGF",
        "colab": {
          "base_uri": "https://localhost:8080/"
        },
        "outputId": "8b30da3e-7bb9-4cb2-80a8-256b8460daf1"
      },
      "execution_count": null,
      "outputs": [
        {
          "output_type": "stream",
          "name": "stdout",
          "text": [
            "Elige entre manzana, pera y kiwi: kiwi\n",
            "La cantidad de kiwi es: 19.\n"
          ]
        }
      ]
    },
    {
      "cell_type": "code",
      "source": [
        "# @title Solución Día 18\n",
        "\n",
        "# 20 Crea un programa que represente un diccionario de frutas y permita al usuario consultar la cantidad de cada tipo de fruta en el diccionario. El programa debe hacer lo siguiente:\n",
        "\n",
        "# Inicializar un diccionario con al menos tres tipos de frutas y sus respectivas cantidades.\n",
        "# Pedir al usuario que ingrese el nombre de una fruta.\n",
        "# Mostrar la cantidad de esa fruta en el diccionario.\n",
        "\n",
        "# Inicializar un diccionario de frutas\n",
        "frutas = {\"manzana\": 10, \"banano\": 5, \"uva\": 15}\n",
        "\n",
        "# Pedir al usuario el nombre de una fruta\n",
        "fruta_consulta = input(\"Ingrese el nombre de una fruta: \")\n",
        "\n",
        "# Mostrar la cantidad de la fruta consultada\n",
        "if fruta_consulta in frutas:\n",
        "    cantidad = frutas[fruta_consulta]\n",
        "    print(f\"La cantidad de {fruta_consulta} es: {cantidad}\")\n",
        "else:\n",
        "    print(f\"{fruta_consulta} no se encuentra en el diccionario de frutas.\")\n"
      ],
      "metadata": {
        "cellView": "form",
        "id": "-Tx1f__KxIjY"
      },
      "execution_count": null,
      "outputs": []
    },
    {
      "cell_type": "markdown",
      "source": [
        "# **Día 19. Ejercicio para reforzar todos los conceptos (Nivel 3)**\n",
        "**Ejercicio: Registro de Notas**\n",
        "\n",
        "Crea un programa que permita al usuario registrar las notas de estudiantes en un diccionario. El programa debe hacer lo siguiente:\n",
        "\n",
        "<br>\n",
        "\n",
        "*   Pedir al usuario que ingrese el nombre de un estudiante.\n",
        "\n",
        "*  Almacenar la nota en un diccionario donde la clave sea el nombre del estudiante y el valor sea su nota.\n",
        "\n",
        "*   Repetir los pasos 1-3 para varios estudiantes.\n",
        "*   Mostrar el diccionario de notas completo al final.\n",
        "\n",
        "\n",
        "\n",
        "\n"
      ],
      "metadata": {
        "id": "e19SH9jsSzEl"
      }
    },
    {
      "cell_type": "code",
      "source": [
        "# Escribe aquí tu código\n",
        "\n",
        "# Diccionario vacío\n",
        "notas_dict = {}\n",
        "\n",
        "# Pedir al usuario que ingrese las notas de los estudiantes\n",
        "while True:\n",
        "  nombre = input(\"Ingresa nombre del alumno (o 'fin' para finalizar): \")\n",
        "  if nombre.lower() == \"fin\":\n",
        "    break\n",
        "\n",
        "  nota = float(input(\"Ingresa la nota: \"))\n",
        "\n",
        "  notas_dict[nombre] = nota # Ejemplo añadir valor (nota) a la clave (nombre)\n",
        "\n",
        "# Mostrar el diccionario de notas completo\n",
        "print(\"Registro notas de los alumnos:\")\n",
        "for alumno, nota in notas_dict.items():\n",
        "    print(f\"{alumno}: {nota}\")"
      ],
      "metadata": {
        "id": "6HClTN-8DAjV",
        "colab": {
          "base_uri": "https://localhost:8080/"
        },
        "outputId": "c2c2aee9-4723-44ea-ada4-87888f9ce70d"
      },
      "execution_count": null,
      "outputs": [
        {
          "output_type": "stream",
          "name": "stdout",
          "text": [
            "Ingresa nombre del alumno (o 'fin' para finalizar): Ana\n",
            "Ingresa la nota: 9\n",
            "Ingresa nombre del alumno (o 'fin' para finalizar): Juan\n",
            "Ingresa la nota: 8\n",
            "Ingresa nombre del alumno (o 'fin' para finalizar): Eva\n",
            "Ingresa la nota: 7\n",
            "Ingresa nombre del alumno (o 'fin' para finalizar): fin\n",
            "Registro notas de los alumnos:\n",
            "Ana: 9.0\n",
            "Juan: 8.0\n",
            "Eva: 7.0\n"
          ]
        }
      ]
    },
    {
      "cell_type": "code",
      "source": [
        "# @title Solución Día 19\n",
        "\n",
        "#21 Ejercicio de refuerzo\n",
        "# Inicializar un diccionario vacío para las notas\n",
        "notas = {}\n",
        "\n",
        "# Pedir al usuario que ingrese las notas de varios estudiantes\n",
        "while True:\n",
        "    nombre = input(\"Ingrese el nombre del estudiante (o 'fin' para salir): \")\n",
        "    if nombre.lower() == 'fin':\n",
        "        break\n",
        "    nota = float(input(\"Ingrese la nota del estudiante: \"))\n",
        "    notas[nombre] = nota\n",
        "\n",
        "# Mostrar el diccionario de notas completo\n",
        "print(\"Registro de Notas:\")\n",
        "for estudiante, nota in notas.items():\n",
        "    print(f\"{estudiante}: {nota}\")\n",
        "\n"
      ],
      "metadata": {
        "cellView": "form",
        "id": "oeIMiDckxXkm"
      },
      "execution_count": null,
      "outputs": []
    },
    {
      "cell_type": "markdown",
      "source": [
        "# **Día 20. Ejercicio extra para aplicar conceptos (Nivel 3)**\n",
        "**Calculadora Simple**\n",
        "\n",
        "Crea una calculadora simple que realice las operaciones de suma, resta, multiplicación y división. El programa debe hacer lo siguiente:\n",
        "\n",
        "\n",
        "*   Definir cuatro funciones, una para cada operación (suma, resta, multiplicación y división).\n",
        "*  Pedir al usuario que ingrese dos números y la operación que desea realizar (+, -, *, /).\n",
        "*   Llamar a la función correspondiente para realizar la operación y mostrar el resultado.\n",
        "\n"
      ],
      "metadata": {
        "id": "Gz0jpizYS9lU"
      }
    },
    {
      "cell_type": "markdown",
      "source": [
        "**Ejercicio:**\n",
        "Ejercicio: Calculadora Simple\n",
        "\n",
        "Crea una calculadora simple que realice las operaciones de suma, resta, multiplicación y división. El programa debe hacer lo siguiente:\n",
        "\n",
        "Definir cuatro funciones, una para cada operación (suma, resta, multiplicación y división).\n",
        "Pedir al usuario que ingrese dos números y la operación que desea realizar (+, -, *, /).\n",
        "Llamar a la función correspondiente para realizar la operación y mostrar el resultado."
      ],
      "metadata": {
        "id": "ENrNtDyhz3WI"
      }
    },
    {
      "cell_type": "code",
      "source": [
        "# Escribe aquí tu código\n",
        "\n",
        "#Definición de las operaciones\n",
        "def suma(a, b):\n",
        "  return a + b\n",
        "\n",
        "def resta(a, b):\n",
        "  return a - b\n",
        "\n",
        "def multiplicacion(a, b):\n",
        "  return a * b\n",
        "\n",
        "def division(a, b):\n",
        "  if b == 0:\n",
        "      return \"Error: No se puede dividir por cero.\"\n",
        "  return a / b\n",
        "\n",
        "#Pedir al usuario que ingrese dos números\n",
        "a = float(input(\"Ingresa un número: \"))\n",
        "b = float(input(\"Ingresa otro número: \"))\n",
        "operacion = input(\"Ingrese la operación que desea realizar (+, -, *, /): \")\n",
        "\n",
        "#Realizar la operación:\n",
        "if operacion == '+':\n",
        "    resultado = suma(a, b)\n",
        "elif operacion == '-':\n",
        "    resultado = resta(a, b)\n",
        "elif operacion == '*':\n",
        "    resultado = multiplicacion(a, b)\n",
        "elif operacion == '/':\n",
        "    resultado = division(a, b)\n",
        "else:\n",
        "    resultado = \"Operación no válida. Por favor, ingrese +, -, *, o /.\"\n",
        "\n",
        "#Mostrar el resultado\n",
        "\n",
        "print(f\"El resultado es: {resultado}\")\n"
      ],
      "metadata": {
        "id": "32Aj4_WOEGaS",
        "colab": {
          "base_uri": "https://localhost:8080/"
        },
        "outputId": "e67dd988-130d-4909-a084-0509874cdbd8"
      },
      "execution_count": null,
      "outputs": [
        {
          "output_type": "stream",
          "name": "stdout",
          "text": [
            "Ingresa un número: 4\n",
            "Ingresa otro número: 9\n",
            "Ingrese la operación que desea realizar (+, -, *, /): *\n",
            "El resultado es: 36.0\n"
          ]
        }
      ]
    },
    {
      "cell_type": "code",
      "source": [
        "# @title Solución Día 20\n",
        "\n",
        "\n",
        "# Ejercicio: Calculadora Simple\n",
        "\n",
        "# Crea una calculadora simple que realice las operaciones de suma, resta, multiplicación y división. El programa debe hacer lo siguiente:\n",
        "\n",
        "# Definir cuatro funciones, una para cada operación (suma, resta, multiplicación y división).\n",
        "# Pedir al usuario que ingrese dos números y la operación que desea realizar (+, -, *, /).\n",
        "# Llamar a la función correspondiente para realizar la operación y mostrar el resultado.\n",
        "# Definir funciones para las operaciones\n",
        "def suma(a, b):\n",
        "    return a + b\n",
        "\n",
        "def resta(a, b):\n",
        "    return a - b\n",
        "\n",
        "def multiplicacion(a, b):\n",
        "    return a * b\n",
        "\n",
        "def division(a, b):\n",
        "    if b == 0:\n",
        "        return \"Error: No se puede dividir por cero.\"\n",
        "    return a / b\n",
        "\n",
        "# Pedir al usuario que ingrese dos números y la operación\n",
        "num1 = float(input(\"Ingrese el primer número: \"))\n",
        "num2 = float(input(\"Ingrese el segundo número: \"))\n",
        "operacion = input(\"Ingrese la operación que desea realizar (+, -, *, /): \")\n",
        "\n",
        "# Realizar la operación correspondiente\n",
        "if operacion == '+':\n",
        "    resultado = suma(num1, num2)\n",
        "elif operacion == '-':\n",
        "    resultado = resta(num1, num2)\n",
        "elif operacion == '*':\n",
        "    resultado = multiplicacion(num1, num2)\n",
        "elif operacion == '/':\n",
        "    resultado = division(num1, num2)\n",
        "else:\n",
        "    resultado = \"Operación no válida. Por favor, ingrese +, -, *, o /.\"\n",
        "\n",
        "# Mostrar el resultado\n",
        "print(f\"Resultado de la operación: {resultado}\")\n",
        "\n"
      ],
      "metadata": {
        "id": "_JRcJ06axfxV",
        "cellView": "form"
      },
      "execution_count": null,
      "outputs": []
    },
    {
      "cell_type": "markdown",
      "source": [
        "## **Ver sesión 4 Minibootcamp Python**\n",
        "\n",
        "En esta sesión aprenderás:\n",
        "- Programación funcional\n",
        "\n",
        "  - Map\n",
        "\n",
        "  - Filter\n",
        "\n",
        "  - Lambda\n",
        "\n",
        "- Programación Orientada a objetos\n",
        "\n",
        "  - Clases\n",
        "\n",
        "  - Objetos\n",
        "\n",
        "  - Métodos\n",
        "\n",
        "  - Atributos\n",
        "\n",
        "Puedes acceder a la sesión aquí:\n",
        "\n",
        "[Sesión 4 Minibootcamp Python](https://nodd3r.com/masters/masterclass/courses/minibootcamp-python/theory/sesion-4-python-pro-teoria-practica)"
      ],
      "metadata": {
        "id": "2sfuI69hxnwS"
      }
    },
    {
      "cell_type": "markdown",
      "source": [
        "# Minibootcamps - RETO PYTHON\n",
        "\n",
        "1- Crea una función lambda que calcule el área de un cuadrilátero  siendo este lado por lado.\n",
        "\n",
        "2 - Crea un filter que dada un conjunto de palabras introducidas por el usuario, se quede con las que tengan 4 letras. Combínalo con lambda.\n",
        "\n",
        "3- Dada unas palabras introducidas por el usuario, devuelve una lista de esas palabras convertidas a mayúsculas.\n",
        "\n",
        "4- Crea una calculadora en Python.\n",
        "\n",
        "Crearás una clase calculadora que tenga los métodos sumar, restar, multiplicar y dividir.\n",
        "\n",
        "Debe pedir al usuario 2 números y después, llamaremos a los 4 métodos para ver las operaciones.\n",
        "\n",
        "\n"
      ],
      "metadata": {
        "id": "41YI20XWZGGF"
      }
    },
    {
      "cell_type": "code",
      "source": [
        "# 1. Crea una función lambda que calcule el área de un cuadrilátero  siendo este lado por lado.\n",
        "\n",
        "area_cuad_lambda = lambda a, b: a*b\n",
        "area_cuad_lambda (5,7)"
      ],
      "metadata": {
        "colab": {
          "base_uri": "https://localhost:8080/"
        },
        "id": "0T1hjyFrZHdM",
        "outputId": "b4eb3bde-b9df-431e-e453-6a78c5ba0aab"
      },
      "execution_count": null,
      "outputs": [
        {
          "output_type": "execute_result",
          "data": {
            "text/plain": [
              "35"
            ]
          },
          "metadata": {},
          "execution_count": 45
        }
      ]
    },
    {
      "cell_type": "code",
      "source": [
        "# 2. Crea un filter que dada un conjunto de palabras introducidas por el usuario, se quede con las que tengan 4 letras. Combínalo con lambda.\n",
        "\n",
        "# Primero pedimos palabras al usuario:\n",
        "palabra = input(\"Introduce una palabra: \")\n",
        "\n",
        "# Para ir almacenando esas palabras creamos una lista:\n",
        "listado = []\n",
        "\n",
        "# Y le indicamos para ello lo siguiente:\n",
        "while palabra != \" \":\n",
        "  listado.append(palabra)\n",
        "  palabra = input(\"Introduce una palabra: \")\n",
        "\n",
        "# ¿Cómo podemos usar ese listado de palabras con Filter? Pues hay que crear la función lambda que permita quedarnos con las palabras de 4 letras:\n",
        "palabra_filter_lambda = list(filter(lambda i: len(i) == 4, listado))\n",
        "\n",
        "# Y lo printamos:\n",
        "print(palabra_filter_lambda)"
      ],
      "metadata": {
        "colab": {
          "base_uri": "https://localhost:8080/"
        },
        "id": "RMuEqnluaS6v",
        "outputId": "61ba4fe7-84bf-407d-c2a6-937d9c4c7339"
      },
      "execution_count": null,
      "outputs": [
        {
          "output_type": "stream",
          "name": "stdout",
          "text": [
            "Introduce una palabra: luz\n",
            "Introduce una palabra: luna\n",
            "Introduce una palabra: bombilla\n",
            "Introduce una palabra: cuadro\n",
            "Introduce una palabra: agua\n",
            "Introduce una palabra: gato\n",
            "Introduce una palabra:  \n",
            "['luna', 'agua', 'gato']\n"
          ]
        }
      ]
    },
    {
      "cell_type": "code",
      "source": [
        "\n",
        "#3- Dada unas palabras introducidas por el usuario, devuelve una lista de esas palabras convertidas a mayúsculas.\n",
        "\n",
        "# Primero pedimos palabras al usuario:\n",
        "palabra = input(\"Introduce una palabra: \")\n",
        "\n",
        "# Para ir almacenando esas palabras creamos una lista:\n",
        "listado = []\n",
        "\n",
        "# Y le indicamos para ello lo siguiente:\n",
        "while palabra != \" \":\n",
        "  listado.append(palabra)\n",
        "  palabra = input(\"Introduce una palabra: \")\n",
        "\n",
        "# ¿Cómo podemos usar ese listado de palabras con Filter? Pues hay que crear la función lambda que permita quedarnos con las palabras de 4 letras:\n",
        "palabra_map_lambda = list(map(lambda i: i.upper(), listado))\n",
        "\n",
        "# Y lo printamos:\n",
        "print(palabra_map_lambda)"
      ],
      "metadata": {
        "colab": {
          "base_uri": "https://localhost:8080/"
        },
        "id": "9yDgqiCji1bW",
        "outputId": "0d146cb1-3bc2-4010-e3d0-a7bff77a3a55"
      },
      "execution_count": null,
      "outputs": [
        {
          "output_type": "stream",
          "name": "stdout",
          "text": [
            "Introduce una palabra: araceli\n",
            "Introduce una palabra: paco\n",
            "Introduce una palabra: ana\n",
            "Introduce una palabra:  \n",
            "['ARACELI', 'PACO', 'ANA']\n"
          ]
        }
      ]
    },
    {
      "cell_type": "code",
      "source": [
        "# Crea una calculadora en Python. Crearás una clase calculadora que tenga los métodos sumar, restar, multiplicar y dividir.\n",
        "# Debe pedir al usuario 2 números y después, llamaremos a los 4 métodos para ver las operaciones.\n",
        "\n",
        "# Creamos la clase\n",
        "class Calculadora:\n",
        "\n",
        "# para ello hay que usar el método __int__ para los atributos y hay que llamar al self para que pertenezcan a la clase:\n",
        "  def __init__ (self, num1, num2):\n",
        "    self.num1 = float(num1)\n",
        "    self.num2 = float (num2)\n",
        "\n",
        "# Y ahora creamos los métodos: +, -, *, /\n",
        "  def suma (self):\n",
        "    suma = self.num1 + self.num2\n",
        "    return suma\n",
        "\n",
        "  def resta (self):\n",
        "    resta = self.num1 - self.num2\n",
        "    return resta\n",
        "\n",
        "  def multiplicacion (self):\n",
        "    multiplicacion = self.num1 * self.num2\n",
        "    return multiplicacion\n",
        "\n",
        "  def division (self):\n",
        "    division = self.num1 / self.num2\n",
        "    return division\n",
        "\n",
        "# Pedimos al usuario que ingrese los números:\n",
        "\n",
        "num1 = input (\"Ingresa un número: \")\n",
        "num2 = input (\"Ingresa otro número: \")\n",
        "\n",
        "# Creamos Objeto calculadora con los dos números:\n",
        "\n",
        "calculadora = Calculadora(num1, num2)\n",
        "\n",
        "# Llamamos a los métodos de la calculadora\n",
        "print(\"Suma:\", calculadora.suma())\n",
        "print(\"Resta:\", calculadora.resta())\n",
        "print(\"Multiplicación:\", calculadora.multiplicacion())\n",
        "print(\"División:\", calculadora.division())\n"
      ],
      "metadata": {
        "colab": {
          "base_uri": "https://localhost:8080/"
        },
        "id": "jXuwiqa1jhwJ",
        "outputId": "f7d6bfd0-8386-449d-b7f7-c17d8e945150"
      },
      "execution_count": null,
      "outputs": [
        {
          "output_type": "stream",
          "name": "stdout",
          "text": [
            "Ingresa un número: 4\n",
            "Ingresa otro número: 5\n",
            "Suma: 9.0\n",
            "Resta: -1.0\n",
            "Multiplicación: 20.0\n",
            "División: 0.8\n"
          ]
        }
      ]
    },
    {
      "cell_type": "markdown",
      "source": [
        "# **Día 21.Programación Orientada a Objetos (Nivel 4)**\n",
        "\n",
        "En el mundo real, mientras trabajamos en proyectos de la vida real, los problemas que intentamos resolver con la programación son complejos e implican mucha lluvia de ideas incluso antes de escribir una sola línea de código.\n",
        "\n",
        "Los buenos programadores no sólo piensan en cómo resolver el problema con código, sino también en cómo escribir código que sea más fácil de mantener, más fácil de ampliar cuando sea necesario y también más fácil de leer y escribir.\n",
        "\n",
        "Esta forma de **estructurar y organizar el código** se conoce como paradigma de programación.\n",
        "\n",
        "Es como un patrón con una **serie de reglas predefinidas** que los desarrolladores pueden seguir para evitar el caos.\n",
        "\n",
        "Imagina que cada desarrollador intentara ser astuto y escribiera el código a su manera.\n",
        "\n",
        "Sin un patrón definido, ¡el proyecto estaría condenado!\n",
        "\n",
        "Volvamos a Python.\n",
        "\n",
        "**En Python, todo es un objeto.**\n",
        "\n",
        "Los tipos de datos que exploramos son todos **objetos** que tienen sus propios **atributos** asociados y **métodos** para realizar alguna acción.\n",
        "\n",
        "Estos objetos vienen de sus **clases** como una **instancia**.\n",
        "\n",
        "Esto significa que todos los tipos de datos en Python tienen una estructura definida o prototipo donde todos los detalles de sus propiedades y funcionalidades han sido definidos.\n",
        "\n",
        "Al igual que las clases incorporadas, se pueden **crear clases personalizadas para representar cosas del mundo real** como coches, máquinas, seres humanos, animales o cualquier otra cosa.\n",
        "\n",
        "Esta representación de entidades del mundo real y sus propiedades y comportamientos en clases de código se puede considerar como una definición libre del paradigma de **programación orientada a objetos**.\n",
        "\n",
        "Cada clase puede utilizarse para crear instancias de un objeto.\n",
        "\n",
        "Estos objetos pueden combinarse con otros para simular funcionalidades del mundo real.\n",
        "\n",
        "Pero para ver POO en acción en Python habrá que sumergirse a fondo y escribir algo de código.\n",
        "\n",
        "- Link POO: https://nodd3r.com/masters/master-data-science/courses/programacion-python/theory/que-es-la-programacion-orientada-a-objetos\n",
        "\n",
        "- https://nodd3r.com/masters/master-data-science/courses/programacion-python/theory/que-es-la-herencia\n",
        "\n",
        "- https://nodd3r.com/masters/master-data-science/courses/programacion-python/theory/para-que-sirve-la-encapsulacion\n",
        "\n",
        "- https://nodd3r.com/masters/master-data-science/courses/programacion-python/theory/que-es-el-polimorfismo"
      ],
      "metadata": {
        "id": "N3aX1p8C0kCC"
      }
    },
    {
      "cell_type": "code",
      "source": [
        "# se define la clase Avenger con class\n",
        "class Avenger:\n",
        "  # se inicializa la clase con la función __init__\n",
        "  def __init__(self, name):\n",
        "    # self para que name pertenezca a la clase\n",
        "    # self.name es un atributo de Avenger\n",
        "    self.name = name\n",
        "\n",
        "  # la función fight es un método de Avenger\n",
        "  def fight(self):\n",
        "    print('👊')\n",
        "\n",
        "# creamos un nuevo objeto Avenger que se llame Spiderman\n",
        "spiderman = Avenger('Spiderman')\n",
        "\n",
        "# printamos\n",
        "print(type(Avenger)) # <class 'type'>\n",
        "print(type(spiderman)) # <class '__main__.Avenger'>"
      ],
      "metadata": {
        "id": "LXeDEHU03BJ7"
      },
      "execution_count": null,
      "outputs": []
    },
    {
      "cell_type": "markdown",
      "source": [
        "El **__ init __** es un método de inicialización (también llamado método constructor).\n",
        "\n",
        "Se utiliza para inicializar las variables de la clase. En la clase anterior, se está inicializando name.\n",
        "\n",
        "**self** es una palabra clave en Python que es una referencia a la instancia de la clase.\n",
        "Se utiliza para acceder a las variables o atributos de la clase.\n",
        "\n",
        "En la clase Avenger, **fight** es un método que es una representación hipotética de lo que hará un Avenger cuando se le pida que luche.\n",
        "Aquí sólo imprime un emoji, pero puede ser cualquier acción.\n",
        "\n",
        "Usando esta clase Avenger como prototipo, he creado un **objeto Spiderman**.\n",
        "\n",
        "Similarmente, esta clase puede ser usada para crear otros Avengers pero parece que todos harían lo mismo al pedirles que peleen lo cual no es cool."
      ],
      "metadata": {
        "id": "eBEUUkYT3lAK"
      }
    },
    {
      "cell_type": "markdown",
      "source": [
        "**Ejercicio**:\n",
        "La tarea consiste en crear una clase SoccerPlayer con atributos de nombre y goles. Además, debe tener un método que sea **gol** que sume 1 a los goles que tiene.\n",
        "\n",
        "Luego crear 3 objetos de 3 jugadores y usando una función sacar los jugadores ordenados por goles."
      ],
      "metadata": {
        "id": "T8fVtvYS3dRI"
      }
    },
    {
      "cell_type": "code",
      "source": [
        "# Escribe aquí tu código\n",
        "# Se define la clase SoccerPlayer con class y los objetos con nombre y goles\n",
        "class SoccerPlayer:\n",
        "    def __init__(self, nombre, goles):\n",
        "        self.nombre = nombre\n",
        "        self.goles = goles\n",
        "\n",
        "    # Método que suma goles:\n",
        "    def gol(self):\n",
        "        self.goles += 1\n",
        "\n",
        "# Crear 3 objetos de 3 jugadores:\n",
        "bonmati = SoccerPlayer(\"Aitana Bonmati\", 9)\n",
        "putellas = SoccerPlayer(\"Alexia Putellas\", 6)\n",
        "carmona = SoccerPlayer(\"Olga Carmona\", 8)\n",
        "\n",
        "# Función para sacar los jugadores ordenados por goles:\n",
        "def ordenar_por_goles(jugadoras):\n",
        "    return sorted(jugadoras, key=lambda jugador: jugador.goles, reverse=True)\n",
        "\n",
        "# Suma de nuevos goles\n",
        "bonmati.gol()\n",
        "bonmati.gol()\n",
        "bonmati.gol()\n",
        "putellas.gol()\n",
        "carmona.gol()\n",
        "\n",
        "# Lista de jugadoras\n",
        "lista_jugadoras = [bonmati, putellas, carmona]\n",
        "\n",
        "# Ordenar jugadoras por goles\n",
        "jugadoras_ordenadas = ordenar_por_goles(lista_jugadoras)\n",
        "\n",
        "# Imprimir jugadoras ordenadas por goles\n",
        "print(\"Jugadoras ordenadas por goles:\")\n",
        "for jugadora in jugadoras_ordenadas:\n",
        "    print(f\"{jugadora.nombre}: {jugadora.goles} goles\")\n",
        "\n"
      ],
      "metadata": {
        "id": "jaSoxbUb4M4t",
        "colab": {
          "base_uri": "https://localhost:8080/"
        },
        "outputId": "226d87ee-aa86-4123-f890-b647e9f02a28"
      },
      "execution_count": null,
      "outputs": [
        {
          "output_type": "stream",
          "name": "stdout",
          "text": [
            "Jugadoras ordenadas por goles:\n",
            "Aitana Bonmati: 12 goles\n",
            "Olga Carmona: 9 goles\n",
            "Alexia Putellas: 7 goles\n"
          ]
        }
      ]
    },
    {
      "cell_type": "code",
      "source": [
        "# @title Solución Día 21\n",
        "\n",
        "class SoccerPlayer:\n",
        "    def __init__(self, nombre, goles=0):\n",
        "        self.nombre = nombre\n",
        "        self.goles = goles\n",
        "\n",
        "    def gol(self):\n",
        "        self.goles += 1\n",
        "\n",
        "# Función para ordenar jugadores por goles\n",
        "def ordenar_por_goles(jugadores):\n",
        "    return sorted(jugadores, key=lambda jugador: jugador.goles, reverse=True)\n",
        "\n",
        "# Crear objetos de jugadores\n",
        "messi = SoccerPlayer(\"Messi\", 25)\n",
        "ronaldo = SoccerPlayer(\"Ronaldo\", 30)\n",
        "neymar = SoccerPlayer(\"Neymar\", 20)\n",
        "\n",
        "# Realizar algunos goles\n",
        "messi.gol()\n",
        "messi.gol()\n",
        "ronaldo.gol()\n",
        "neymar.gol()\n",
        "neymar.gol()\n",
        "\n",
        "# Lista de jugadores\n",
        "lista_jugadores = [messi, ronaldo, neymar]\n",
        "\n",
        "# Ordenar jugadores por goles\n",
        "jugadores_ordenados = ordenar_por_goles(lista_jugadores)\n",
        "\n",
        "# Imprimir jugadores ordenados por goles\n",
        "print(\"Jugadores ordenados por goles:\")\n",
        "for jugador in jugadores_ordenados:\n",
        "    print(f\"{jugador.nombre}: {jugador.goles} goles\")\n"
      ],
      "metadata": {
        "colab": {
          "base_uri": "https://localhost:8080/"
        },
        "id": "sQ28sw9FyEaa",
        "outputId": "440b3529-765b-4d19-cfb4-efd13642730c"
      },
      "execution_count": null,
      "outputs": [
        {
          "output_type": "stream",
          "name": "stdout",
          "text": [
            "Jugadores ordenados por goles:\n",
            "Ronaldo: 31 goles\n",
            "Messi: 27 goles\n",
            "Neymar: 22 goles\n"
          ]
        }
      ]
    },
    {
      "cell_type": "markdown",
      "source": [
        "## **Para terminar**\n",
        "\n",
        "Entrega tu Google Colab con tus soluciones rellenando este Google Sheets:\n",
        "\n",
        "[Accede al Google Sheets aquí](https://docs.google.com/spreadsheets/d/1r8NTODDVOCPEumk7B1HjvRRwBc4KNqm1X8qA4_OOHA4/edit?usp=sharing)\n",
        "\n",
        "\n",
        "Y avísanos por Discord 😁"
      ],
      "metadata": {
        "id": "ypuSGBG8zJK7"
      }
    },
    {
      "cell_type": "markdown",
      "source": [
        "# **Siguientes pasos**\n",
        "\n",
        "1. Puedes terminar el Minibootcamp viendo un proyecto real de Python explicado:\n",
        "\n",
        "[Sesión 5 Minibootcamp Python](https://nodd3r.com/masters/masterclass/courses/minibootcamp-python/theory/sesion-5-proyecto-final-python)\n",
        "\n",
        "2. Una vez hayas completado esto, vuelve al módulo de Python para terminarlo 💪\n",
        "\n",
        "https://nodd3r.com/masters/master-data-science/courses/programacion-python"
      ],
      "metadata": {
        "id": "SgQL3uq2zL6-"
      }
    }
  ]
}